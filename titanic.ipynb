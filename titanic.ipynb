{
 "cells": [
  {
   "cell_type": "code",
   "execution_count": 1,
   "id": "a3dcbb06-6452-418e-85db-2dbf2c9a30f3",
   "metadata": {
    "tags": []
   },
   "outputs": [],
   "source": [
    "#importing the necessary libraries\n",
    "import pandas as pd\n",
    "import numpy as np\n",
    "import matplotlib.pyplot as plt\n",
    "import seaborn as sns"
   ]
  },
  {
   "cell_type": "code",
   "execution_count": 2,
   "id": "75a1ac17-650e-42e8-a26a-5bcfd9b945e3",
   "metadata": {
    "tags": []
   },
   "outputs": [],
   "source": [
    "#load the dataset\n",
    "df=pd.read_csv(r\"C:\\Users\\TOPE\\Desktop\\titanic (1).csv\")"
   ]
  },
  {
   "cell_type": "code",
   "execution_count": 3,
   "id": "5919bc9e-6c6f-4897-9f1b-e1621d58d523",
   "metadata": {
    "tags": []
   },
   "outputs": [
    {
     "data": {
      "text/html": [
       "<div>\n",
       "<style scoped>\n",
       "    .dataframe tbody tr th:only-of-type {\n",
       "        vertical-align: middle;\n",
       "    }\n",
       "\n",
       "    .dataframe tbody tr th {\n",
       "        vertical-align: top;\n",
       "    }\n",
       "\n",
       "    .dataframe thead th {\n",
       "        text-align: right;\n",
       "    }\n",
       "</style>\n",
       "<table border=\"1\" class=\"dataframe\">\n",
       "  <thead>\n",
       "    <tr style=\"text-align: right;\">\n",
       "      <th></th>\n",
       "      <th>PassengerId</th>\n",
       "      <th>Survived</th>\n",
       "      <th>Pclass</th>\n",
       "      <th>Name</th>\n",
       "      <th>Sex</th>\n",
       "      <th>Age</th>\n",
       "      <th>SibSp</th>\n",
       "      <th>Parch</th>\n",
       "      <th>Ticket</th>\n",
       "      <th>Fare</th>\n",
       "      <th>Cabin</th>\n",
       "      <th>Embarked</th>\n",
       "    </tr>\n",
       "  </thead>\n",
       "  <tbody>\n",
       "    <tr>\n",
       "      <th>0</th>\n",
       "      <td>1</td>\n",
       "      <td>0</td>\n",
       "      <td>3</td>\n",
       "      <td>Braund, Mr. Owen Harris</td>\n",
       "      <td>male</td>\n",
       "      <td>22.0</td>\n",
       "      <td>1</td>\n",
       "      <td>0</td>\n",
       "      <td>A/5 21171</td>\n",
       "      <td>7.2500</td>\n",
       "      <td>NaN</td>\n",
       "      <td>S</td>\n",
       "    </tr>\n",
       "    <tr>\n",
       "      <th>1</th>\n",
       "      <td>2</td>\n",
       "      <td>1</td>\n",
       "      <td>1</td>\n",
       "      <td>Cumings, Mrs. John Bradley (Florence Briggs Th...</td>\n",
       "      <td>female</td>\n",
       "      <td>38.0</td>\n",
       "      <td>1</td>\n",
       "      <td>0</td>\n",
       "      <td>PC 17599</td>\n",
       "      <td>71.2833</td>\n",
       "      <td>C85</td>\n",
       "      <td>C</td>\n",
       "    </tr>\n",
       "    <tr>\n",
       "      <th>2</th>\n",
       "      <td>3</td>\n",
       "      <td>1</td>\n",
       "      <td>3</td>\n",
       "      <td>Heikkinen, Miss. Laina</td>\n",
       "      <td>female</td>\n",
       "      <td>26.0</td>\n",
       "      <td>0</td>\n",
       "      <td>0</td>\n",
       "      <td>STON/O2. 3101282</td>\n",
       "      <td>7.9250</td>\n",
       "      <td>NaN</td>\n",
       "      <td>S</td>\n",
       "    </tr>\n",
       "    <tr>\n",
       "      <th>3</th>\n",
       "      <td>4</td>\n",
       "      <td>1</td>\n",
       "      <td>1</td>\n",
       "      <td>Futrelle, Mrs. Jacques Heath (Lily May Peel)</td>\n",
       "      <td>female</td>\n",
       "      <td>35.0</td>\n",
       "      <td>1</td>\n",
       "      <td>0</td>\n",
       "      <td>113803</td>\n",
       "      <td>53.1000</td>\n",
       "      <td>C123</td>\n",
       "      <td>S</td>\n",
       "    </tr>\n",
       "    <tr>\n",
       "      <th>4</th>\n",
       "      <td>5</td>\n",
       "      <td>0</td>\n",
       "      <td>3</td>\n",
       "      <td>Allen, Mr. William Henry</td>\n",
       "      <td>male</td>\n",
       "      <td>35.0</td>\n",
       "      <td>0</td>\n",
       "      <td>0</td>\n",
       "      <td>373450</td>\n",
       "      <td>8.0500</td>\n",
       "      <td>NaN</td>\n",
       "      <td>S</td>\n",
       "    </tr>\n",
       "    <tr>\n",
       "      <th>...</th>\n",
       "      <td>...</td>\n",
       "      <td>...</td>\n",
       "      <td>...</td>\n",
       "      <td>...</td>\n",
       "      <td>...</td>\n",
       "      <td>...</td>\n",
       "      <td>...</td>\n",
       "      <td>...</td>\n",
       "      <td>...</td>\n",
       "      <td>...</td>\n",
       "      <td>...</td>\n",
       "      <td>...</td>\n",
       "    </tr>\n",
       "    <tr>\n",
       "      <th>886</th>\n",
       "      <td>887</td>\n",
       "      <td>0</td>\n",
       "      <td>2</td>\n",
       "      <td>Montvila, Rev. Juozas</td>\n",
       "      <td>male</td>\n",
       "      <td>27.0</td>\n",
       "      <td>0</td>\n",
       "      <td>0</td>\n",
       "      <td>211536</td>\n",
       "      <td>13.0000</td>\n",
       "      <td>NaN</td>\n",
       "      <td>S</td>\n",
       "    </tr>\n",
       "    <tr>\n",
       "      <th>887</th>\n",
       "      <td>888</td>\n",
       "      <td>1</td>\n",
       "      <td>1</td>\n",
       "      <td>Graham, Miss. Margaret Edith</td>\n",
       "      <td>female</td>\n",
       "      <td>19.0</td>\n",
       "      <td>0</td>\n",
       "      <td>0</td>\n",
       "      <td>112053</td>\n",
       "      <td>30.0000</td>\n",
       "      <td>B42</td>\n",
       "      <td>S</td>\n",
       "    </tr>\n",
       "    <tr>\n",
       "      <th>888</th>\n",
       "      <td>889</td>\n",
       "      <td>0</td>\n",
       "      <td>3</td>\n",
       "      <td>Johnston, Miss. Catherine Helen \"Carrie\"</td>\n",
       "      <td>female</td>\n",
       "      <td>NaN</td>\n",
       "      <td>1</td>\n",
       "      <td>2</td>\n",
       "      <td>W./C. 6607</td>\n",
       "      <td>23.4500</td>\n",
       "      <td>NaN</td>\n",
       "      <td>S</td>\n",
       "    </tr>\n",
       "    <tr>\n",
       "      <th>889</th>\n",
       "      <td>890</td>\n",
       "      <td>1</td>\n",
       "      <td>1</td>\n",
       "      <td>Behr, Mr. Karl Howell</td>\n",
       "      <td>male</td>\n",
       "      <td>26.0</td>\n",
       "      <td>0</td>\n",
       "      <td>0</td>\n",
       "      <td>111369</td>\n",
       "      <td>30.0000</td>\n",
       "      <td>C148</td>\n",
       "      <td>C</td>\n",
       "    </tr>\n",
       "    <tr>\n",
       "      <th>890</th>\n",
       "      <td>891</td>\n",
       "      <td>0</td>\n",
       "      <td>3</td>\n",
       "      <td>Dooley, Mr. Patrick</td>\n",
       "      <td>male</td>\n",
       "      <td>32.0</td>\n",
       "      <td>0</td>\n",
       "      <td>0</td>\n",
       "      <td>370376</td>\n",
       "      <td>7.7500</td>\n",
       "      <td>NaN</td>\n",
       "      <td>Q</td>\n",
       "    </tr>\n",
       "  </tbody>\n",
       "</table>\n",
       "<p>891 rows × 12 columns</p>\n",
       "</div>"
      ],
      "text/plain": [
       "     PassengerId  Survived  Pclass  \\\n",
       "0              1         0       3   \n",
       "1              2         1       1   \n",
       "2              3         1       3   \n",
       "3              4         1       1   \n",
       "4              5         0       3   \n",
       "..           ...       ...     ...   \n",
       "886          887         0       2   \n",
       "887          888         1       1   \n",
       "888          889         0       3   \n",
       "889          890         1       1   \n",
       "890          891         0       3   \n",
       "\n",
       "                                                  Name     Sex   Age  SibSp  \\\n",
       "0                              Braund, Mr. Owen Harris    male  22.0      1   \n",
       "1    Cumings, Mrs. John Bradley (Florence Briggs Th...  female  38.0      1   \n",
       "2                               Heikkinen, Miss. Laina  female  26.0      0   \n",
       "3         Futrelle, Mrs. Jacques Heath (Lily May Peel)  female  35.0      1   \n",
       "4                             Allen, Mr. William Henry    male  35.0      0   \n",
       "..                                                 ...     ...   ...    ...   \n",
       "886                              Montvila, Rev. Juozas    male  27.0      0   \n",
       "887                       Graham, Miss. Margaret Edith  female  19.0      0   \n",
       "888           Johnston, Miss. Catherine Helen \"Carrie\"  female   NaN      1   \n",
       "889                              Behr, Mr. Karl Howell    male  26.0      0   \n",
       "890                                Dooley, Mr. Patrick    male  32.0      0   \n",
       "\n",
       "     Parch            Ticket     Fare Cabin Embarked  \n",
       "0        0         A/5 21171   7.2500   NaN        S  \n",
       "1        0          PC 17599  71.2833   C85        C  \n",
       "2        0  STON/O2. 3101282   7.9250   NaN        S  \n",
       "3        0            113803  53.1000  C123        S  \n",
       "4        0            373450   8.0500   NaN        S  \n",
       "..     ...               ...      ...   ...      ...  \n",
       "886      0            211536  13.0000   NaN        S  \n",
       "887      0            112053  30.0000   B42        S  \n",
       "888      2        W./C. 6607  23.4500   NaN        S  \n",
       "889      0            111369  30.0000  C148        C  \n",
       "890      0            370376   7.7500   NaN        Q  \n",
       "\n",
       "[891 rows x 12 columns]"
      ]
     },
     "execution_count": 3,
     "metadata": {},
     "output_type": "execute_result"
    }
   ],
   "source": [
    "df"
   ]
  },
  {
   "cell_type": "markdown",
   "id": "618e3571-563b-4478-b284-641ac61d3d6e",
   "metadata": {},
   "source": [
    "###  What was the overall survival rate on the Titanic?"
   ]
  },
  {
   "cell_type": "code",
   "execution_count": 4,
   "id": "c2200154-fe35-4dae-8a71-f3bd1999fe0f",
   "metadata": {
    "tags": []
   },
   "outputs": [
    {
     "data": {
      "text/plain": [
       "38.38383838383838"
      ]
     },
     "execution_count": 4,
     "metadata": {},
     "output_type": "execute_result"
    }
   ],
   "source": [
    "total_passengers = df.shape[0]\n",
    "survived_passengers = df['Survived'].sum()\n",
    "\n",
    "survival_rate = (survived_passengers / total_passengers) * 100\n",
    "survival_rate"
   ]
  },
  {
   "cell_type": "markdown",
   "id": "05e28daa-d0fd-4452-84b5-d88c2d35a083",
   "metadata": {},
   "source": [
    "### Did passengers in certain classes have a higher chance of survival?"
   ]
  },
  {
   "cell_type": "code",
   "execution_count": 5,
   "id": "805a7b5e-443d-407e-a830-f48621754320",
   "metadata": {
    "tags": []
   },
   "outputs": [
    {
     "data": {
      "text/plain": [
       "Pclass\n",
       "1    62.962963\n",
       "2    47.282609\n",
       "3    24.236253\n",
       "Name: Survived, dtype: float64"
      ]
     },
     "execution_count": 5,
     "metadata": {},
     "output_type": "execute_result"
    }
   ],
   "source": [
    "\n",
    "# Assuming your dataset is named 'df'\n",
    "class_survival = df.groupby('Pclass')['Survived'].mean() * 100\n",
    "class_survival"
   ]
  },
  {
   "cell_type": "markdown",
   "id": "4ced2346-cbf0-435e-9105-d0da7fcb8027",
   "metadata": {},
   "source": [
    "### Did gender play a role in survival rates?"
   ]
  },
  {
   "cell_type": "code",
   "execution_count": 6,
   "id": "b421ae66-9929-4a73-8cd1-0cbd1eb2bee2",
   "metadata": {
    "tags": []
   },
   "outputs": [
    {
     "data": {
      "text/plain": [
       "Sex\n",
       "female    74.203822\n",
       "male      18.890815\n",
       "Name: Survived, dtype: float64"
      ]
     },
     "execution_count": 6,
     "metadata": {},
     "output_type": "execute_result"
    }
   ],
   "source": [
    "# Assuming your dataset is named 'df'\n",
    "gender_survival = df.groupby('Sex')['Survived'].mean() * 100\n",
    "gender_survival"
   ]
  },
  {
   "cell_type": "code",
   "execution_count": 7,
   "id": "6d1951a7-a9ae-485a-81f0-1ee168653a10",
   "metadata": {
    "tags": []
   },
   "outputs": [],
   "source": [
    "### Were passengers with siblings or spouses more likely to survive?"
   ]
  },
  {
   "cell_type": "code",
   "execution_count": 8,
   "id": "3d393e75-3e90-4c0f-a3b4-77cb423ac408",
   "metadata": {
    "tags": []
   },
   "outputs": [
    {
     "data": {
      "text/plain": [
       "SibSp\n",
       "0    34.539474\n",
       "1    53.588517\n",
       "2    46.428571\n",
       "3    25.000000\n",
       "4    16.666667\n",
       "5     0.000000\n",
       "8     0.000000\n",
       "Name: Survived, dtype: float64"
      ]
     },
     "execution_count": 8,
     "metadata": {},
     "output_type": "execute_result"
    }
   ],
   "source": [
    "\n",
    "# Assuming your dataset is named 'df'\n",
    "sibsp_survival = df.groupby('SibSp')['Survived'].mean() * 100\n",
    "sibsp_survival"
   ]
  },
  {
   "cell_type": "markdown",
   "id": "aed85001-fcb3-4cb8-bdd5-42ea86e3b4bb",
   "metadata": {
    "tags": []
   },
   "source": [
    "###  Did having parents or children aboard the Titanic influence survival rates?\n"
   ]
  },
  {
   "cell_type": "code",
   "execution_count": 9,
   "id": "788a6f8b-90d8-4b04-8dd7-83a945c794b4",
   "metadata": {
    "tags": []
   },
   "outputs": [
    {
     "data": {
      "text/plain": [
       "Parch\n",
       "0    34.365782\n",
       "1    55.084746\n",
       "2    50.000000\n",
       "3    60.000000\n",
       "4     0.000000\n",
       "5    20.000000\n",
       "6     0.000000\n",
       "Name: Survived, dtype: float64"
      ]
     },
     "execution_count": 9,
     "metadata": {},
     "output_type": "execute_result"
    }
   ],
   "source": [
    "\n",
    "# Assuming your dataset is named 'df'\n",
    "parch_survival = df.groupby('Parch')['Survived'].mean() * 100\n",
    "parch_survival"
   ]
  },
  {
   "cell_type": "markdown",
   "id": "883ca5f4-c4a4-4539-92eb-540c508fe1ee",
   "metadata": {},
   "source": [
    "### What was the age distribution of passengers on the Titanic?"
   ]
  },
  {
   "cell_type": "code",
   "execution_count": 10,
   "id": "623339ad-3825-4557-a23a-4dcc9ed9bb0b",
   "metadata": {
    "tags": []
   },
   "outputs": [
    {
     "data": {
      "image/png": "[encoded data removed]",
      "text/plain": [
       "<Figure size 640x480 with 1 Axes>"
      ]
     },
     "metadata": {},
     "output_type": "display_data"
    }
   ],
   "source": [
    "# Assuming your dataset is named 'df' and you have dropped NaN values in the 'Age' column\n",
    "age_data = df['Age']\n",
    "\n",
    "# Create a histogram\n",
    "plt.hist(age_data, bins=20, edgecolor='k', alpha=0.7)\n",
    "plt.xlabel('Age')\n",
    "plt.ylabel('Number of Passengers')\n",
    "plt.title('Age Distribution of Titanic Passengers')\n",
    "plt.show()"
   ]
  },
  {
   "cell_type": "markdown",
   "id": "24a2fcbd-cd7e-4f53-be12-abacfdc19140",
   "metadata": {},
   "source": [
    "###  Did age impact a passenger's likelihood of survival?"
   ]
  },
  {
   "cell_type": "code",
   "execution_count": 11,
   "id": "25f38c1e-0825-4874-a234-be734a11fe32",
   "metadata": {
    "tags": []
   },
   "outputs": [
    {
     "data": {
      "image/png": "[encoded data removed]",
      "text/plain": [
       "<Figure size 640x480 with 1 Axes>"
      ]
     },
     "metadata": {},
     "output_type": "display_data"
    }
   ],
   "source": [
    "# Assuming your dataset is named 'df' and you have dropped NaN values in the 'Age' column\n",
    "age_data = df['Age']\n",
    "df['AgeGroup'] = pd.cut(age_data, bins=[0, 18, 35, 50, 100], labels=['0-18', '19-35', '36-50', '51+'])\n",
    "\n",
    "# Calculate survival rate for each age group\n",
    "age_group_survival = df.groupby('AgeGroup')['Survived'].mean()\n",
    "\n",
    "# Create a bar chart to visualize the survival rates\n",
    "plt.bar(age_group_survival.index, age_group_survival * 100)\n",
    "plt.xlabel('Age Group')\n",
    "plt.ylabel('Survival Rate (%)')\n",
    "plt.title('Survival Rate by Age Group')\n",
    "plt.show()"
   ]
  },
  {
   "cell_type": "markdown",
   "id": "9efa3464-f6b3-437f-bf8d-6b0dc34db06d",
   "metadata": {},
   "source": [
    "### Were children given priority in the lifeboats?"
   ]
  },
  {
   "cell_type": "markdown",
   "id": "d65568de-94f1-4934-badf-61ad06dcfe53",
   "metadata": {},
   "source": [
    "###  What was the distribution of ticket fares?"
   ]
  },
  {
   "cell_type": "code",
   "execution_count": 12,
   "id": "820f226a-d3c3-4736-9236-f223fad360c8",
   "metadata": {
    "tags": []
   },
   "outputs": [
    {
     "data": {
      "image/png": "[encoded data removed]",
      "text/plain": [
       "<Figure size 640x480 with 1 Axes>"
      ]
     },
     "metadata": {},
     "output_type": "display_data"
    }
   ],
   "source": [
    "# Assuming your dataset is named 'df'\n",
    "fare_data = df['Fare']\n",
    "\n",
    "# Create a histogram\n",
    "plt.hist(fare_data, bins=30, edgecolor='k', alpha=0.7)\n",
    "plt.xlabel('Fare')\n",
    "plt.ylabel('Number of Passengers')\n",
    "plt.title('Ticket Fare Distribution on the Titanic')\n",
    "plt.show()"
   ]
  },
  {
   "cell_type": "markdown",
   "id": "7392d7f9-2053-4e35-8afe-5cac0456ea8c",
   "metadata": {},
   "source": [
    "### . Did passengers who paid more for their tickets have a higher chance of survival?"
   ]
  },
  {
   "cell_type": "code",
   "execution_count": 13,
   "id": "856949bf-e001-4f71-a2a5-9669640da90a",
   "metadata": {
    "tags": []
   },
   "outputs": [
    {
     "name": "stdout",
     "output_type": "stream",
     "text": [
      "count    891.000000\n",
      "mean      32.204208\n",
      "std       49.693429\n",
      "min        0.000000\n",
      "25%        7.910400\n",
      "50%       14.454200\n",
      "75%       31.000000\n",
      "max      512.329200\n",
      "Name: Fare, dtype: float64\n"
     ]
    },
    {
     "data": {
      "image/png": "[encoded data removed]",
      "text/plain": [
       "<Figure size 640x480 with 1 Axes>"
      ]
     },
     "metadata": {},
     "output_type": "display_data"
    }
   ],
   "source": [
    "\n",
    "# Assuming your dataset is named 'df'\n",
    "# Let's first check the summary statistics of ticket fares\n",
    "print(df['Fare'].describe())\n",
    "\n",
    "# Create a box plot to visualize the relationship between fare and survival\n",
    "sns.boxplot(x='Survived', y='Fare', data=df)\n",
    "plt.title('Survival by Ticket Fare')\n",
    "plt.show()"
   ]
  },
  {
   "cell_type": "markdown",
   "id": "f87bfae8-a71c-4c87-a483-c5c00cafa601",
   "metadata": {
    "tags": []
   },
   "source": [
    "### Did the ticket fare correlate with the passenger class?\n"
   ]
  },
  {
   "cell_type": "markdown",
   "id": "33cb5d9e-2475-45cd-b119-1547f9b37fc1",
   "metadata": {},
   "source": [
    "### How many passengers embarked from each of the three ports (Southampton, Cherbourg, and Queenstown)"
   ]
  },
  {
   "cell_type": "markdown",
   "id": "01d56354-7719-44cb-8264-fa1ada67e1bc",
   "metadata": {},
   "source": [
    "### Did the port of embarkation influence a passenger's survival chances?"
   ]
  },
  {
   "cell_type": "markdown",
   "id": "08b5a41a-b319-45b2-b236-36993992f844",
   "metadata": {},
   "source": [
    "### . What was the average family size on the Titanic?"
   ]
  },
  {
   "cell_type": "markdown",
   "id": "a092ebc6-2412-42ce-ae1e-a83675db4f52",
   "metadata": {},
   "source": [
    "### What was the average family size on the Titanic?"
   ]
  },
  {
   "cell_type": "markdown",
   "id": "0b1a0c15-a991-4717-8075-dd2429a9eab0",
   "metadata": {},
   "source": [
    "### How many passengers had cabin information available in the dataset?"
   ]
  },
  {
   "cell_type": "markdown",
   "id": "960a111b-e7ca-45dd-a3ab-c8105d9d5e94",
   "metadata": {},
   "source": [
    "###  What are the most common titles (e.g., Mr., Mrs., Miss) among passengers, and did they impact survival?"
   ]
  },
  {
   "cell_type": "markdown",
   "id": "a56e4c61-c0b6-4755-96d2-1df6904557d7",
   "metadata": {
    "tags": []
   },
   "source": [
    "### Can we identify any interactions between different features that had a significant impact on survival?"
   ]
  },
  {
   "cell_type": "code",
   "execution_count": 19,
   "id": "ed3c807d-3966-4111-9d32-4522f17786aa",
   "metadata": {
    "tags": []
   },
   "outputs": [
    {
     "data": {
      "image/png": "[encoded data removed]",
      "text/plain": [
       "<Figure size 1000x600 with 1 Axes>"
      ]
     },
     "metadata": {},
     "output_type": "display_data"
    }
   ],
   "source": [
    "# Assuming your dataset is named 'titanic_data'\n",
    "df['Class_Sex'] = df['Pclass'].astype(str) + '_' + df['Sex']\n",
    "\n",
    "# Calculate survival rates by \"Class_Sex\"\n",
    "survival_rates = df.groupby('Class_Sex')['Survived'].mean()\n",
    "# Assuming your dataset is named 'titanic_data'\n",
    "df['Class_Sex'] = df['Pclass'].astype(str) + '_' + df['Sex']\n",
    "\n",
    "# Calculate survival rates by \"Class_Sex\"\n",
    "survival_rates = df.groupby('Class_Sex')['Survived'].mean()\n",
    "# Create a bar chart\n",
    "plt.figure(figsize=(10, 6))\n",
    "survival_rates.plot(kind='bar')\n",
    "plt.xlabel('Class and Sex')\n",
    "plt.ylabel('Survival Rate')\n",
    "plt.title('Survival Rates by Class and Sex')\n",
    "plt.xticks(rotation=0)\n",
    "\n",
    "# Display the plot\n",
    "plt.show()"
   ]
  },
  {
   "cell_type": "code",
   "execution_count": null,
   "id": "2b681441-11b8-4876-99b9-fc63594ff26e",
   "metadata": {},
   "outputs": [],
   "source": []
  }
 ],
 "metadata": {
  "kernelspec": {
   "display_name": "Python 3 (ipykernel)",
   "language": "python",
   "name": "python3"
  },
  "language_info": {
   "codemirror_mode": {
    "name": "ipython",
    "version": 3
   },
   "file_extension": ".py",
   "mimetype": "text/x-python",
   "name": "python",
   "nbconvert_exporter": "python",
   "pygments_lexer": "ipython3",
   "version": "3.11.4"
  }
 },
 "nbformat": 4,
 "nbformat_minor": 5
}
