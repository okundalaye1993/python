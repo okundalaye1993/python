{
 "cells": [
  {
   "cell_type": "code",
   "execution_count": 60,
   "id": "e673273d-62b4-494f-a2a9-0eb620518398",
   "metadata": {
    "tags": []
   },
   "outputs": [],
   "source": [
    "#importing the necessary libraries\n",
    "import pandas as pd\n",
    "import numpy as np\n",
    "import matplotlib.pyplot as plt"
   ]
  },
  {
   "cell_type": "code",
   "execution_count": null,
   "id": "7e5b7e8c-5a48-4f65-93d6-8fb4f6be2d8d",
   "metadata": {
    "tags": []
   },
   "outputs": [],
   "source": [
    "#load the dataset\n",
    "df=pd.read_csv(r\"C:\\Users\\TOPE\\Desktop\\Salaries (1).csv\")"
   ]
  },
  {
   "cell_type": "code",
   "execution_count": 62,
   "id": "26837a0f-6ebe-4956-9132-bcf8f3d863a3",
   "metadata": {
    "tags": []
   },
   "outputs": [
    {
     "data": {
      "text/html": [
       "<div>\n",
       "<style scoped>\n",
       "    .dataframe tbody tr th:only-of-type {\n",
       "        vertical-align: middle;\n",
       "    }\n",
       "\n",
       "    .dataframe tbody tr th {\n",
       "        vertical-align: top;\n",
       "    }\n",
       "\n",
       "    .dataframe thead th {\n",
       "        text-align: right;\n",
       "    }\n",
       "</style>\n",
       "<table border=\"1\" class=\"dataframe\">\n",
       "  <thead>\n",
       "    <tr style=\"text-align: right;\">\n",
       "      <th></th>\n",
       "      <th>Id</th>\n",
       "      <th>EmployeeName</th>\n",
       "      <th>JobTitle</th>\n",
       "      <th>BasePay</th>\n",
       "      <th>OvertimePay</th>\n",
       "      <th>OtherPay</th>\n",
       "      <th>Benefits</th>\n",
       "      <th>TotalPay</th>\n",
       "      <th>TotalPayBenefits</th>\n",
       "      <th>Year</th>\n",
       "      <th>Notes</th>\n",
       "      <th>Agency</th>\n",
       "      <th>Status</th>\n",
       "    </tr>\n",
       "  </thead>\n",
       "  <tbody>\n",
       "    <tr>\n",
       "      <th>0</th>\n",
       "      <td>1</td>\n",
       "      <td>NATHANIEL FORD</td>\n",
       "      <td>GENERAL MANAGER-METROPOLITAN TRANSIT AUTHORITY</td>\n",
       "      <td>167411.18</td>\n",
       "      <td>0.00</td>\n",
       "      <td>400184.25</td>\n",
       "      <td>NaN</td>\n",
       "      <td>567595.43</td>\n",
       "      <td>567595.43</td>\n",
       "      <td>2011</td>\n",
       "      <td>NaN</td>\n",
       "      <td>San Francisco</td>\n",
       "      <td>NaN</td>\n",
       "    </tr>\n",
       "    <tr>\n",
       "      <th>1</th>\n",
       "      <td>2</td>\n",
       "      <td>GARY JIMENEZ</td>\n",
       "      <td>CAPTAIN III (POLICE DEPARTMENT)</td>\n",
       "      <td>155966.02</td>\n",
       "      <td>245131.88</td>\n",
       "      <td>137811.38</td>\n",
       "      <td>NaN</td>\n",
       "      <td>538909.28</td>\n",
       "      <td>538909.28</td>\n",
       "      <td>2011</td>\n",
       "      <td>NaN</td>\n",
       "      <td>San Francisco</td>\n",
       "      <td>NaN</td>\n",
       "    </tr>\n",
       "    <tr>\n",
       "      <th>2</th>\n",
       "      <td>3</td>\n",
       "      <td>ALBERT PARDINI</td>\n",
       "      <td>CAPTAIN III (POLICE DEPARTMENT)</td>\n",
       "      <td>212739.13</td>\n",
       "      <td>106088.18</td>\n",
       "      <td>16452.60</td>\n",
       "      <td>NaN</td>\n",
       "      <td>335279.91</td>\n",
       "      <td>335279.91</td>\n",
       "      <td>2011</td>\n",
       "      <td>NaN</td>\n",
       "      <td>San Francisco</td>\n",
       "      <td>NaN</td>\n",
       "    </tr>\n",
       "    <tr>\n",
       "      <th>3</th>\n",
       "      <td>4</td>\n",
       "      <td>CHRISTOPHER CHONG</td>\n",
       "      <td>WIRE ROPE CABLE MAINTENANCE MECHANIC</td>\n",
       "      <td>77916.00</td>\n",
       "      <td>56120.71</td>\n",
       "      <td>198306.90</td>\n",
       "      <td>NaN</td>\n",
       "      <td>332343.61</td>\n",
       "      <td>332343.61</td>\n",
       "      <td>2011</td>\n",
       "      <td>NaN</td>\n",
       "      <td>San Francisco</td>\n",
       "      <td>NaN</td>\n",
       "    </tr>\n",
       "    <tr>\n",
       "      <th>4</th>\n",
       "      <td>5</td>\n",
       "      <td>PATRICK GARDNER</td>\n",
       "      <td>DEPUTY CHIEF OF DEPARTMENT,(FIRE DEPARTMENT)</td>\n",
       "      <td>134401.60</td>\n",
       "      <td>9737.00</td>\n",
       "      <td>182234.59</td>\n",
       "      <td>NaN</td>\n",
       "      <td>326373.19</td>\n",
       "      <td>326373.19</td>\n",
       "      <td>2011</td>\n",
       "      <td>NaN</td>\n",
       "      <td>San Francisco</td>\n",
       "      <td>NaN</td>\n",
       "    </tr>\n",
       "    <tr>\n",
       "      <th>...</th>\n",
       "      <td>...</td>\n",
       "      <td>...</td>\n",
       "      <td>...</td>\n",
       "      <td>...</td>\n",
       "      <td>...</td>\n",
       "      <td>...</td>\n",
       "      <td>...</td>\n",
       "      <td>...</td>\n",
       "      <td>...</td>\n",
       "      <td>...</td>\n",
       "      <td>...</td>\n",
       "      <td>...</td>\n",
       "      <td>...</td>\n",
       "    </tr>\n",
       "    <tr>\n",
       "      <th>148649</th>\n",
       "      <td>148650</td>\n",
       "      <td>Roy I Tillery</td>\n",
       "      <td>Custodian</td>\n",
       "      <td>0.00</td>\n",
       "      <td>0.00</td>\n",
       "      <td>0.00</td>\n",
       "      <td>0.0</td>\n",
       "      <td>0.00</td>\n",
       "      <td>0.00</td>\n",
       "      <td>2014</td>\n",
       "      <td>NaN</td>\n",
       "      <td>San Francisco</td>\n",
       "      <td>NaN</td>\n",
       "    </tr>\n",
       "    <tr>\n",
       "      <th>148650</th>\n",
       "      <td>148651</td>\n",
       "      <td>Not provided</td>\n",
       "      <td>Not provided</td>\n",
       "      <td>NaN</td>\n",
       "      <td>NaN</td>\n",
       "      <td>NaN</td>\n",
       "      <td>NaN</td>\n",
       "      <td>0.00</td>\n",
       "      <td>0.00</td>\n",
       "      <td>2014</td>\n",
       "      <td>NaN</td>\n",
       "      <td>San Francisco</td>\n",
       "      <td>NaN</td>\n",
       "    </tr>\n",
       "    <tr>\n",
       "      <th>148651</th>\n",
       "      <td>148652</td>\n",
       "      <td>Not provided</td>\n",
       "      <td>Not provided</td>\n",
       "      <td>NaN</td>\n",
       "      <td>NaN</td>\n",
       "      <td>NaN</td>\n",
       "      <td>NaN</td>\n",
       "      <td>0.00</td>\n",
       "      <td>0.00</td>\n",
       "      <td>2014</td>\n",
       "      <td>NaN</td>\n",
       "      <td>San Francisco</td>\n",
       "      <td>NaN</td>\n",
       "    </tr>\n",
       "    <tr>\n",
       "      <th>148652</th>\n",
       "      <td>148653</td>\n",
       "      <td>Not provided</td>\n",
       "      <td>Not provided</td>\n",
       "      <td>NaN</td>\n",
       "      <td>NaN</td>\n",
       "      <td>NaN</td>\n",
       "      <td>NaN</td>\n",
       "      <td>0.00</td>\n",
       "      <td>0.00</td>\n",
       "      <td>2014</td>\n",
       "      <td>NaN</td>\n",
       "      <td>San Francisco</td>\n",
       "      <td>NaN</td>\n",
       "    </tr>\n",
       "    <tr>\n",
       "      <th>148653</th>\n",
       "      <td>148654</td>\n",
       "      <td>Joe Lopez</td>\n",
       "      <td>Counselor, Log Cabin Ranch</td>\n",
       "      <td>0.00</td>\n",
       "      <td>0.00</td>\n",
       "      <td>-618.13</td>\n",
       "      <td>0.0</td>\n",
       "      <td>-618.13</td>\n",
       "      <td>-618.13</td>\n",
       "      <td>2014</td>\n",
       "      <td>NaN</td>\n",
       "      <td>San Francisco</td>\n",
       "      <td>NaN</td>\n",
       "    </tr>\n",
       "  </tbody>\n",
       "</table>\n",
       "<p>148654 rows × 13 columns</p>\n",
       "</div>"
      ],
      "text/plain": [
       "            Id       EmployeeName  \\\n",
       "0            1     NATHANIEL FORD   \n",
       "1            2       GARY JIMENEZ   \n",
       "2            3     ALBERT PARDINI   \n",
       "3            4  CHRISTOPHER CHONG   \n",
       "4            5    PATRICK GARDNER   \n",
       "...        ...                ...   \n",
       "148649  148650      Roy I Tillery   \n",
       "148650  148651       Not provided   \n",
       "148651  148652       Not provided   \n",
       "148652  148653       Not provided   \n",
       "148653  148654          Joe Lopez   \n",
       "\n",
       "                                              JobTitle    BasePay  \\\n",
       "0       GENERAL MANAGER-METROPOLITAN TRANSIT AUTHORITY  167411.18   \n",
       "1                      CAPTAIN III (POLICE DEPARTMENT)  155966.02   \n",
       "2                      CAPTAIN III (POLICE DEPARTMENT)  212739.13   \n",
       "3                 WIRE ROPE CABLE MAINTENANCE MECHANIC   77916.00   \n",
       "4         DEPUTY CHIEF OF DEPARTMENT,(FIRE DEPARTMENT)  134401.60   \n",
       "...                                                ...        ...   \n",
       "148649                                       Custodian       0.00   \n",
       "148650                                    Not provided        NaN   \n",
       "148651                                    Not provided        NaN   \n",
       "148652                                    Not provided        NaN   \n",
       "148653                      Counselor, Log Cabin Ranch       0.00   \n",
       "\n",
       "        OvertimePay   OtherPay  Benefits   TotalPay  TotalPayBenefits  Year  \\\n",
       "0              0.00  400184.25       NaN  567595.43         567595.43  2011   \n",
       "1         245131.88  137811.38       NaN  538909.28         538909.28  2011   \n",
       "2         106088.18   16452.60       NaN  335279.91         335279.91  2011   \n",
       "3          56120.71  198306.90       NaN  332343.61         332343.61  2011   \n",
       "4           9737.00  182234.59       NaN  326373.19         326373.19  2011   \n",
       "...             ...        ...       ...        ...               ...   ...   \n",
       "148649         0.00       0.00       0.0       0.00              0.00  2014   \n",
       "148650          NaN        NaN       NaN       0.00              0.00  2014   \n",
       "148651          NaN        NaN       NaN       0.00              0.00  2014   \n",
       "148652          NaN        NaN       NaN       0.00              0.00  2014   \n",
       "148653         0.00    -618.13       0.0    -618.13           -618.13  2014   \n",
       "\n",
       "        Notes         Agency  Status  \n",
       "0         NaN  San Francisco     NaN  \n",
       "1         NaN  San Francisco     NaN  \n",
       "2         NaN  San Francisco     NaN  \n",
       "3         NaN  San Francisco     NaN  \n",
       "4         NaN  San Francisco     NaN  \n",
       "...       ...            ...     ...  \n",
       "148649    NaN  San Francisco     NaN  \n",
       "148650    NaN  San Francisco     NaN  \n",
       "148651    NaN  San Francisco     NaN  \n",
       "148652    NaN  San Francisco     NaN  \n",
       "148653    NaN  San Francisco     NaN  \n",
       "\n",
       "[148654 rows x 13 columns]"
      ]
     },
     "execution_count": 62,
     "metadata": {},
     "output_type": "execute_result"
    }
   ],
   "source": [
    "df"
   ]
  },
  {
   "cell_type": "code",
   "execution_count": 63,
   "id": "502db1ce-73aa-4610-a9b7-0a946f629eee",
   "metadata": {
    "tags": []
   },
   "outputs": [
    {
     "data": {
      "text/plain": [
       "Index(['Id', 'EmployeeName', 'JobTitle', 'BasePay', 'OvertimePay', 'OtherPay',\n",
       "       'Benefits', 'TotalPay', 'TotalPayBenefits', 'Year', 'Notes', 'Agency',\n",
       "       'Status'],\n",
       "      dtype='object')"
      ]
     },
     "execution_count": 63,
     "metadata": {},
     "output_type": "execute_result"
    }
   ],
   "source": [
    "df.columns"
   ]
  },
  {
   "cell_type": "code",
   "execution_count": 64,
   "id": "3012aa9f-2848-4eb9-9088-4bc2edc6d8f2",
   "metadata": {
    "tags": []
   },
   "outputs": [
    {
     "data": {
      "text/html": [
       "<div>\n",
       "<style scoped>\n",
       "    .dataframe tbody tr th:only-of-type {\n",
       "        vertical-align: middle;\n",
       "    }\n",
       "\n",
       "    .dataframe tbody tr th {\n",
       "        vertical-align: top;\n",
       "    }\n",
       "\n",
       "    .dataframe thead th {\n",
       "        text-align: right;\n",
       "    }\n",
       "</style>\n",
       "<table border=\"1\" class=\"dataframe\">\n",
       "  <thead>\n",
       "    <tr style=\"text-align: right;\">\n",
       "      <th></th>\n",
       "      <th>Id</th>\n",
       "      <th>BasePay</th>\n",
       "      <th>OvertimePay</th>\n",
       "      <th>OtherPay</th>\n",
       "      <th>Benefits</th>\n",
       "      <th>TotalPay</th>\n",
       "      <th>TotalPayBenefits</th>\n",
       "      <th>Year</th>\n",
       "      <th>Notes</th>\n",
       "      <th>Status</th>\n",
       "    </tr>\n",
       "  </thead>\n",
       "  <tbody>\n",
       "    <tr>\n",
       "      <th>count</th>\n",
       "      <td>148654.000000</td>\n",
       "      <td>148045.000000</td>\n",
       "      <td>148650.000000</td>\n",
       "      <td>148650.000000</td>\n",
       "      <td>112491.000000</td>\n",
       "      <td>148654.000000</td>\n",
       "      <td>148654.000000</td>\n",
       "      <td>148654.000000</td>\n",
       "      <td>0.0</td>\n",
       "      <td>0.0</td>\n",
       "    </tr>\n",
       "    <tr>\n",
       "      <th>mean</th>\n",
       "      <td>74327.500000</td>\n",
       "      <td>66325.448840</td>\n",
       "      <td>5066.059886</td>\n",
       "      <td>3648.767297</td>\n",
       "      <td>25007.893151</td>\n",
       "      <td>74768.321972</td>\n",
       "      <td>93692.554811</td>\n",
       "      <td>2012.522643</td>\n",
       "      <td>NaN</td>\n",
       "      <td>NaN</td>\n",
       "    </tr>\n",
       "    <tr>\n",
       "      <th>std</th>\n",
       "      <td>42912.857795</td>\n",
       "      <td>42764.635495</td>\n",
       "      <td>11454.380559</td>\n",
       "      <td>8056.601866</td>\n",
       "      <td>15402.215858</td>\n",
       "      <td>50517.005274</td>\n",
       "      <td>62793.533483</td>\n",
       "      <td>1.117538</td>\n",
       "      <td>NaN</td>\n",
       "      <td>NaN</td>\n",
       "    </tr>\n",
       "    <tr>\n",
       "      <th>min</th>\n",
       "      <td>1.000000</td>\n",
       "      <td>-166.010000</td>\n",
       "      <td>-0.010000</td>\n",
       "      <td>-7058.590000</td>\n",
       "      <td>-33.890000</td>\n",
       "      <td>-618.130000</td>\n",
       "      <td>-618.130000</td>\n",
       "      <td>2011.000000</td>\n",
       "      <td>NaN</td>\n",
       "      <td>NaN</td>\n",
       "    </tr>\n",
       "    <tr>\n",
       "      <th>25%</th>\n",
       "      <td>37164.250000</td>\n",
       "      <td>33588.200000</td>\n",
       "      <td>0.000000</td>\n",
       "      <td>0.000000</td>\n",
       "      <td>11535.395000</td>\n",
       "      <td>36168.995000</td>\n",
       "      <td>44065.650000</td>\n",
       "      <td>2012.000000</td>\n",
       "      <td>NaN</td>\n",
       "      <td>NaN</td>\n",
       "    </tr>\n",
       "    <tr>\n",
       "      <th>50%</th>\n",
       "      <td>74327.500000</td>\n",
       "      <td>65007.450000</td>\n",
       "      <td>0.000000</td>\n",
       "      <td>811.270000</td>\n",
       "      <td>28628.620000</td>\n",
       "      <td>71426.610000</td>\n",
       "      <td>92404.090000</td>\n",
       "      <td>2013.000000</td>\n",
       "      <td>NaN</td>\n",
       "      <td>NaN</td>\n",
       "    </tr>\n",
       "    <tr>\n",
       "      <th>75%</th>\n",
       "      <td>111490.750000</td>\n",
       "      <td>94691.050000</td>\n",
       "      <td>4658.175000</td>\n",
       "      <td>4236.065000</td>\n",
       "      <td>35566.855000</td>\n",
       "      <td>105839.135000</td>\n",
       "      <td>132876.450000</td>\n",
       "      <td>2014.000000</td>\n",
       "      <td>NaN</td>\n",
       "      <td>NaN</td>\n",
       "    </tr>\n",
       "    <tr>\n",
       "      <th>max</th>\n",
       "      <td>148654.000000</td>\n",
       "      <td>319275.010000</td>\n",
       "      <td>245131.880000</td>\n",
       "      <td>400184.250000</td>\n",
       "      <td>96570.660000</td>\n",
       "      <td>567595.430000</td>\n",
       "      <td>567595.430000</td>\n",
       "      <td>2014.000000</td>\n",
       "      <td>NaN</td>\n",
       "      <td>NaN</td>\n",
       "    </tr>\n",
       "  </tbody>\n",
       "</table>\n",
       "</div>"
      ],
      "text/plain": [
       "                  Id        BasePay    OvertimePay       OtherPay  \\\n",
       "count  148654.000000  148045.000000  148650.000000  148650.000000   \n",
       "mean    74327.500000   66325.448840    5066.059886    3648.767297   \n",
       "std     42912.857795   42764.635495   11454.380559    8056.601866   \n",
       "min         1.000000    -166.010000      -0.010000   -7058.590000   \n",
       "25%     37164.250000   33588.200000       0.000000       0.000000   \n",
       "50%     74327.500000   65007.450000       0.000000     811.270000   \n",
       "75%    111490.750000   94691.050000    4658.175000    4236.065000   \n",
       "max    148654.000000  319275.010000  245131.880000  400184.250000   \n",
       "\n",
       "            Benefits       TotalPay  TotalPayBenefits           Year  Notes  \\\n",
       "count  112491.000000  148654.000000     148654.000000  148654.000000    0.0   \n",
       "mean    25007.893151   74768.321972      93692.554811    2012.522643    NaN   \n",
       "std     15402.215858   50517.005274      62793.533483       1.117538    NaN   \n",
       "min       -33.890000    -618.130000       -618.130000    2011.000000    NaN   \n",
       "25%     11535.395000   36168.995000      44065.650000    2012.000000    NaN   \n",
       "50%     28628.620000   71426.610000      92404.090000    2013.000000    NaN   \n",
       "75%     35566.855000  105839.135000     132876.450000    2014.000000    NaN   \n",
       "max     96570.660000  567595.430000     567595.430000    2014.000000    NaN   \n",
       "\n",
       "       Status  \n",
       "count     0.0  \n",
       "mean      NaN  \n",
       "std       NaN  \n",
       "min       NaN  \n",
       "25%       NaN  \n",
       "50%       NaN  \n",
       "75%       NaN  \n",
       "max       NaN  "
      ]
     },
     "execution_count": 64,
     "metadata": {},
     "output_type": "execute_result"
    }
   ],
   "source": [
    "df.describe()"
   ]
  },
  {
   "cell_type": "code",
   "execution_count": 65,
   "id": "b01ae452-bfba-469d-81c7-c57b7bd211c7",
   "metadata": {
    "tags": []
   },
   "outputs": [
    {
     "name": "stdout",
     "output_type": "stream",
     "text": [
      "<class 'pandas.core.frame.DataFrame'>\n",
      "RangeIndex: 148654 entries, 0 to 148653\n",
      "Data columns (total 13 columns):\n",
      " #   Column            Non-Null Count   Dtype  \n",
      "---  ------            --------------   -----  \n",
      " 0   Id                148654 non-null  int64  \n",
      " 1   EmployeeName      148654 non-null  object \n",
      " 2   JobTitle          148654 non-null  object \n",
      " 3   BasePay           148045 non-null  float64\n",
      " 4   OvertimePay       148650 non-null  float64\n",
      " 5   OtherPay          148650 non-null  float64\n",
      " 6   Benefits          112491 non-null  float64\n",
      " 7   TotalPay          148654 non-null  float64\n",
      " 8   TotalPayBenefits  148654 non-null  float64\n",
      " 9   Year              148654 non-null  int64  \n",
      " 10  Notes             0 non-null       float64\n",
      " 11  Agency            148654 non-null  object \n",
      " 12  Status            0 non-null       float64\n",
      "dtypes: float64(8), int64(2), object(3)\n",
      "memory usage: 14.7+ MB\n"
     ]
    }
   ],
   "source": [
    "df.info()"
   ]
  },
  {
   "cell_type": "code",
   "execution_count": 66,
   "id": "6a347921-f240-4cc8-a639-865b2667f8e4",
   "metadata": {
    "tags": []
   },
   "outputs": [
    {
     "data": {
      "text/plain": [
       "Id                       0\n",
       "EmployeeName             0\n",
       "JobTitle                 0\n",
       "BasePay                609\n",
       "OvertimePay              4\n",
       "OtherPay                 4\n",
       "Benefits             36163\n",
       "TotalPay                 0\n",
       "TotalPayBenefits         0\n",
       "Year                     0\n",
       "Notes               148654\n",
       "Agency                   0\n",
       "Status              148654\n",
       "dtype: int64"
      ]
     },
     "execution_count": 66,
     "metadata": {},
     "output_type": "execute_result"
    }
   ],
   "source": [
    "df.isnull().sum()"
   ]
  },
  {
   "cell_type": "code",
   "execution_count": 67,
   "id": "c09fc9f9-3b96-4616-bac2-f1bfd26b7590",
   "metadata": {
    "tags": []
   },
   "outputs": [],
   "source": [
    "df['BasePay'] = df['BasePay'].fillna(df['BasePay'].mean())\n",
    "df['Benefits'] = df['Benefits'].fillna(0)\n"
   ]
  },
  {
   "cell_type": "markdown",
   "id": "d342ee72-f8ff-4125-bca3-edd70853f6cc",
   "metadata": {},
   "source": [
    "### Drop unneccesary columns"
   ]
  },
  {
   "cell_type": "code",
   "execution_count": 68,
   "id": "4dcc31a5-eaf5-4813-9b36-2509c624a808",
   "metadata": {
    "tags": []
   },
   "outputs": [],
   "source": [
    "columns_to_drop = ['Id', 'Notes', 'Status']\n",
    "df = df.drop(columns=columns_to_drop)\n",
    "\n",
    "# Now, 'df' contains the dataset with the specified columns removed\n"
   ]
  },
  {
   "cell_type": "code",
   "execution_count": 69,
   "id": "98fa1c89-b64d-4544-9e64-13d23bdcb4d4",
   "metadata": {
    "tags": []
   },
   "outputs": [
    {
     "data": {
      "text/html": [
       "<div>\n",
       "<style scoped>\n",
       "    .dataframe tbody tr th:only-of-type {\n",
       "        vertical-align: middle;\n",
       "    }\n",
       "\n",
       "    .dataframe tbody tr th {\n",
       "        vertical-align: top;\n",
       "    }\n",
       "\n",
       "    .dataframe thead th {\n",
       "        text-align: right;\n",
       "    }\n",
       "</style>\n",
       "<table border=\"1\" class=\"dataframe\">\n",
       "  <thead>\n",
       "    <tr style=\"text-align: right;\">\n",
       "      <th></th>\n",
       "      <th>EmployeeName</th>\n",
       "      <th>JobTitle</th>\n",
       "      <th>BasePay</th>\n",
       "      <th>OvertimePay</th>\n",
       "      <th>OtherPay</th>\n",
       "      <th>Benefits</th>\n",
       "      <th>TotalPay</th>\n",
       "      <th>TotalPayBenefits</th>\n",
       "      <th>Year</th>\n",
       "      <th>Agency</th>\n",
       "    </tr>\n",
       "  </thead>\n",
       "  <tbody>\n",
       "    <tr>\n",
       "      <th>0</th>\n",
       "      <td>NATHANIEL FORD</td>\n",
       "      <td>GENERAL MANAGER-METROPOLITAN TRANSIT AUTHORITY</td>\n",
       "      <td>167411.18000</td>\n",
       "      <td>0.00</td>\n",
       "      <td>400184.25</td>\n",
       "      <td>0.0</td>\n",
       "      <td>567595.43</td>\n",
       "      <td>567595.43</td>\n",
       "      <td>2011</td>\n",
       "      <td>San Francisco</td>\n",
       "    </tr>\n",
       "    <tr>\n",
       "      <th>1</th>\n",
       "      <td>GARY JIMENEZ</td>\n",
       "      <td>CAPTAIN III (POLICE DEPARTMENT)</td>\n",
       "      <td>155966.02000</td>\n",
       "      <td>245131.88</td>\n",
       "      <td>137811.38</td>\n",
       "      <td>0.0</td>\n",
       "      <td>538909.28</td>\n",
       "      <td>538909.28</td>\n",
       "      <td>2011</td>\n",
       "      <td>San Francisco</td>\n",
       "    </tr>\n",
       "    <tr>\n",
       "      <th>2</th>\n",
       "      <td>ALBERT PARDINI</td>\n",
       "      <td>CAPTAIN III (POLICE DEPARTMENT)</td>\n",
       "      <td>212739.13000</td>\n",
       "      <td>106088.18</td>\n",
       "      <td>16452.60</td>\n",
       "      <td>0.0</td>\n",
       "      <td>335279.91</td>\n",
       "      <td>335279.91</td>\n",
       "      <td>2011</td>\n",
       "      <td>San Francisco</td>\n",
       "    </tr>\n",
       "    <tr>\n",
       "      <th>3</th>\n",
       "      <td>CHRISTOPHER CHONG</td>\n",
       "      <td>WIRE ROPE CABLE MAINTENANCE MECHANIC</td>\n",
       "      <td>77916.00000</td>\n",
       "      <td>56120.71</td>\n",
       "      <td>198306.90</td>\n",
       "      <td>0.0</td>\n",
       "      <td>332343.61</td>\n",
       "      <td>332343.61</td>\n",
       "      <td>2011</td>\n",
       "      <td>San Francisco</td>\n",
       "    </tr>\n",
       "    <tr>\n",
       "      <th>4</th>\n",
       "      <td>PATRICK GARDNER</td>\n",
       "      <td>DEPUTY CHIEF OF DEPARTMENT,(FIRE DEPARTMENT)</td>\n",
       "      <td>134401.60000</td>\n",
       "      <td>9737.00</td>\n",
       "      <td>182234.59</td>\n",
       "      <td>0.0</td>\n",
       "      <td>326373.19</td>\n",
       "      <td>326373.19</td>\n",
       "      <td>2011</td>\n",
       "      <td>San Francisco</td>\n",
       "    </tr>\n",
       "    <tr>\n",
       "      <th>...</th>\n",
       "      <td>...</td>\n",
       "      <td>...</td>\n",
       "      <td>...</td>\n",
       "      <td>...</td>\n",
       "      <td>...</td>\n",
       "      <td>...</td>\n",
       "      <td>...</td>\n",
       "      <td>...</td>\n",
       "      <td>...</td>\n",
       "      <td>...</td>\n",
       "    </tr>\n",
       "    <tr>\n",
       "      <th>148649</th>\n",
       "      <td>Roy I Tillery</td>\n",
       "      <td>Custodian</td>\n",
       "      <td>0.00000</td>\n",
       "      <td>0.00</td>\n",
       "      <td>0.00</td>\n",
       "      <td>0.0</td>\n",
       "      <td>0.00</td>\n",
       "      <td>0.00</td>\n",
       "      <td>2014</td>\n",
       "      <td>San Francisco</td>\n",
       "    </tr>\n",
       "    <tr>\n",
       "      <th>148650</th>\n",
       "      <td>Not provided</td>\n",
       "      <td>Not provided</td>\n",
       "      <td>66325.44884</td>\n",
       "      <td>NaN</td>\n",
       "      <td>NaN</td>\n",
       "      <td>0.0</td>\n",
       "      <td>0.00</td>\n",
       "      <td>0.00</td>\n",
       "      <td>2014</td>\n",
       "      <td>San Francisco</td>\n",
       "    </tr>\n",
       "    <tr>\n",
       "      <th>148651</th>\n",
       "      <td>Not provided</td>\n",
       "      <td>Not provided</td>\n",
       "      <td>66325.44884</td>\n",
       "      <td>NaN</td>\n",
       "      <td>NaN</td>\n",
       "      <td>0.0</td>\n",
       "      <td>0.00</td>\n",
       "      <td>0.00</td>\n",
       "      <td>2014</td>\n",
       "      <td>San Francisco</td>\n",
       "    </tr>\n",
       "    <tr>\n",
       "      <th>148652</th>\n",
       "      <td>Not provided</td>\n",
       "      <td>Not provided</td>\n",
       "      <td>66325.44884</td>\n",
       "      <td>NaN</td>\n",
       "      <td>NaN</td>\n",
       "      <td>0.0</td>\n",
       "      <td>0.00</td>\n",
       "      <td>0.00</td>\n",
       "      <td>2014</td>\n",
       "      <td>San Francisco</td>\n",
       "    </tr>\n",
       "    <tr>\n",
       "      <th>148653</th>\n",
       "      <td>Joe Lopez</td>\n",
       "      <td>Counselor, Log Cabin Ranch</td>\n",
       "      <td>0.00000</td>\n",
       "      <td>0.00</td>\n",
       "      <td>-618.13</td>\n",
       "      <td>0.0</td>\n",
       "      <td>-618.13</td>\n",
       "      <td>-618.13</td>\n",
       "      <td>2014</td>\n",
       "      <td>San Francisco</td>\n",
       "    </tr>\n",
       "  </tbody>\n",
       "</table>\n",
       "<p>148654 rows × 10 columns</p>\n",
       "</div>"
      ],
      "text/plain": [
       "             EmployeeName                                        JobTitle  \\\n",
       "0          NATHANIEL FORD  GENERAL MANAGER-METROPOLITAN TRANSIT AUTHORITY   \n",
       "1            GARY JIMENEZ                 CAPTAIN III (POLICE DEPARTMENT)   \n",
       "2          ALBERT PARDINI                 CAPTAIN III (POLICE DEPARTMENT)   \n",
       "3       CHRISTOPHER CHONG            WIRE ROPE CABLE MAINTENANCE MECHANIC   \n",
       "4         PATRICK GARDNER    DEPUTY CHIEF OF DEPARTMENT,(FIRE DEPARTMENT)   \n",
       "...                   ...                                             ...   \n",
       "148649      Roy I Tillery                                       Custodian   \n",
       "148650       Not provided                                    Not provided   \n",
       "148651       Not provided                                    Not provided   \n",
       "148652       Not provided                                    Not provided   \n",
       "148653          Joe Lopez                      Counselor, Log Cabin Ranch   \n",
       "\n",
       "             BasePay  OvertimePay   OtherPay  Benefits   TotalPay  \\\n",
       "0       167411.18000         0.00  400184.25       0.0  567595.43   \n",
       "1       155966.02000    245131.88  137811.38       0.0  538909.28   \n",
       "2       212739.13000    106088.18   16452.60       0.0  335279.91   \n",
       "3        77916.00000     56120.71  198306.90       0.0  332343.61   \n",
       "4       134401.60000      9737.00  182234.59       0.0  326373.19   \n",
       "...              ...          ...        ...       ...        ...   \n",
       "148649       0.00000         0.00       0.00       0.0       0.00   \n",
       "148650   66325.44884          NaN        NaN       0.0       0.00   \n",
       "148651   66325.44884          NaN        NaN       0.0       0.00   \n",
       "148652   66325.44884          NaN        NaN       0.0       0.00   \n",
       "148653       0.00000         0.00    -618.13       0.0    -618.13   \n",
       "\n",
       "        TotalPayBenefits  Year         Agency  \n",
       "0              567595.43  2011  San Francisco  \n",
       "1              538909.28  2011  San Francisco  \n",
       "2              335279.91  2011  San Francisco  \n",
       "3              332343.61  2011  San Francisco  \n",
       "4              326373.19  2011  San Francisco  \n",
       "...                  ...   ...            ...  \n",
       "148649              0.00  2014  San Francisco  \n",
       "148650              0.00  2014  San Francisco  \n",
       "148651              0.00  2014  San Francisco  \n",
       "148652              0.00  2014  San Francisco  \n",
       "148653           -618.13  2014  San Francisco  \n",
       "\n",
       "[148654 rows x 10 columns]"
      ]
     },
     "execution_count": 69,
     "metadata": {},
     "output_type": "execute_result"
    }
   ],
   "source": [
    "df"
   ]
  },
  {
   "cell_type": "markdown",
   "id": "5a9cb2aa-12b0-4b80-a835-807782bfb1d4",
   "metadata": {},
   "source": [
    "### Find occurrence of employee names"
   ]
  },
  {
   "cell_type": "code",
   "execution_count": 70,
   "id": "eef8ae68-7ae5-4fbb-b15c-146e405767c6",
   "metadata": {
    "tags": []
   },
   "outputs": [
    {
     "data": {
      "text/plain": [
       "Kevin Lee                   13\n",
       "Richard Lee                 11\n",
       "Steven Lee                  11\n",
       "William Wong                11\n",
       "Stanley Lee                  9\n",
       "                            ..\n",
       "Jeffrey Skover               1\n",
       "Ken Dever                    1\n",
       "Kevin Whitfield              1\n",
       "Granville McCollough III     1\n",
       "Joe Lopez                    1\n",
       "Name: EmployeeName, Length: 110811, dtype: int64"
      ]
     },
     "execution_count": 70,
     "metadata": {},
     "output_type": "execute_result"
    }
   ],
   "source": [
    "# Group the data by 'EmployeeName' and count the occurrences\n",
    "employee_name_counts = df['EmployeeName'].value_counts()\n",
    "employee_name_counts"
   ]
  },
  {
   "cell_type": "code",
   "execution_count": 71,
   "id": "03c06c37-1f7c-452b-b6b5-5992517a3557",
   "metadata": {
    "tags": []
   },
   "outputs": [
    {
     "data": {
      "text/plain": [
       "13"
      ]
     },
     "execution_count": 71,
     "metadata": {},
     "output_type": "execute_result"
    }
   ],
   "source": [
    "# Replace 'John Smith' with the name you want to check\n",
    "occurrences_of_name = employee_name_counts['Kevin Lee']\n",
    "occurrences_of_name\n"
   ]
  },
  {
   "cell_type": "markdown",
   "id": "8bdc927b-1203-4f20-8bd3-6a4407355f45",
   "metadata": {},
   "source": [
    "### Find number of unique job titles"
   ]
  },
  {
   "cell_type": "code",
   "execution_count": 72,
   "id": "9518e460-f06e-4bbb-9f8b-2d2ff1661077",
   "metadata": {
    "tags": []
   },
   "outputs": [
    {
     "data": {
      "text/plain": [
       "2159"
      ]
     },
     "execution_count": 72,
     "metadata": {},
     "output_type": "execute_result"
    }
   ],
   "source": [
    "# Use nunique() to count the number of unique job titles\n",
    "unique_job_titles_count = df['JobTitle'].nunique()\n",
    "unique_job_titles_count"
   ]
  },
  {
   "cell_type": "markdown",
   "id": "2668a428-31ee-4459-a37d-7df1df10e2dc",
   "metadata": {},
   "source": [
    "### Find total number of job titles that contain captain"
   ]
  },
  {
   "cell_type": "code",
   "execution_count": 73,
   "id": "6364dd86-2e26-4f3b-8d1e-8d3e4a0c0ffc",
   "metadata": {
    "tags": []
   },
   "outputs": [
    {
     "data": {
      "text/plain": [
       "552"
      ]
     },
     "execution_count": 73,
     "metadata": {},
     "output_type": "execute_result"
    }
   ],
   "source": [
    "# Use str.contains() to filter job titles containing \"captain\" and then count them\n",
    "captain_job_titles_count = df[df['JobTitle'].str.contains('captain', case=False)].shape[0]\n",
    "captain_job_titles_count"
   ]
  },
  {
   "cell_type": "markdown",
   "id": "c9f44a8f-bcc4-445b-a078-2c21f748aeaf",
   "metadata": {},
   "source": [
    "### Display all the employee names from fire department"
   ]
  },
  {
   "cell_type": "code",
   "execution_count": 74,
   "id": "a85407fb-8ef8-43c7-af1c-73ed38f6473f",
   "metadata": {
    "tags": []
   },
   "outputs": [
    {
     "name": "stdout",
     "output_type": "stream",
     "text": [
      "4                 PATRICK GARDNER\n",
      "6                       ALSON LEE\n",
      "8                  MICHAEL MORRIS\n",
      "9              JOANNE HAYES-WHITE\n",
      "10                  ARTHUR KENNEY\n",
      "14                 DAVID FRANKLIN\n",
      "18                     MARTY ROSS\n",
      "23                  VICTOR WYRSCH\n",
      "27                 RAYMOND GUZMAN\n",
      "29                  MONICA FIELDS\n",
      "34                      JOSE VELO\n",
      "39                   BRENDAN WARD\n",
      "40               MICHAEL THOMPSON\n",
      "41                  THOMAS ABBOTT\n",
      "42                THOMAS SIRAGUSA\n",
      "46               BRYAN RUBENSTEIN\n",
      "49                        KEN YEE\n",
      "50                KIRK RICHARDSON\n",
      "60                  KENNETH SMITH\n",
      "63                  CHARLES CRANE\n",
      "66                  ROBERT POSTEL\n",
      "71             RICHARD BUSALACCHI\n",
      "76                    KEVIN BURKE\n",
      "79               EDUARDO GONZALEZ\n",
      "81                 ROBERT WINSLOW\n",
      "82                   LORRIE KALOS\n",
      "86                 MICHAEL BRYANT\n",
      "90                  MARK GONZALES\n",
      "94                       REX HALE\n",
      "97                    KEVIN SMITH\n",
      "100                  KEVIN TAYLOR\n",
      "101                     ERIKA HOO\n",
      "106                    SAMSON LAI\n",
      "118                   KHAIRUL ALI\n",
      "127                   JOHN HICKEY\n",
      "129                    EDWARD CHU\n",
      "134              ZACHARY PUMPHREY\n",
      "135               MARK CASTAGNOLA\n",
      "141            LUIS IBARRA-RIVERA\n",
      "151               MICHAEL KEARNEY\n",
      "152            MATTHEW MCNAUGHTON\n",
      "170                GEORGE LYSENKO\n",
      "173               ALBERTO PEDRUCO\n",
      "175                  DWAYNE CURRY\n",
      "184                 DENNIS SUTTER\n",
      "209                ROBERT SERRANO\n",
      "210               JAMES VANNUCCHI\n",
      "215              CANTREZ TRIPLETT\n",
      "233                  RYAN KENNEDY\n",
      "234                    JOHN ROCCO\n",
      "267                   EDMUND VAIL\n",
      "268                  ANDREW SAITZ\n",
      "283             BERGLIOTH MATHEWS\n",
      "288                PABLO SIGUENZA\n",
      "309                  DANIEL YONTS\n",
      "311                DAVID THOMPSON\n",
      "312                   JAMES BLAKE\n",
      "324                    RYAN CREAN\n",
      "327              RUDY CASTELLANOS\n",
      "329              MICHAEL GONZALES\n",
      "340                  ROBERT LOPEZ\n",
      "359                   JOHN MURPHY\n",
      "378               KENNETH CORDERO\n",
      "387                  JIM HALL III\n",
      "421                  MARK JOHNSON\n",
      "422              BRENDAN MCGORRIN\n",
      "435             WILLIAM MCFARLAND\n",
      "451              RAEMONA WILLIAMS\n",
      "456                JEFFREY BARDEN\n",
      "457                MATTHEW CANNON\n",
      "460               RICHARD UNTALAN\n",
      "485                DENNIS O'NEILL\n",
      "494                 FLOYD ROLLINS\n",
      "496                THOMAS KOHMANN\n",
      "535                RAUL FRANCISCO\n",
      "545                  ALAN REYNAUD\n",
      "551                 DENISE NEWMAN\n",
      "570                   JOHN CREMEN\n",
      "572                   FRANK KOSTA\n",
      "585                   FRANK HSIEH\n",
      "599            MATTHEW HUTCHINSON\n",
      "608                   DAVID BROWN\n",
      "609                 VINCENT NOLAN\n",
      "616               CHERISH MURDOCK\n",
      "622                  LARS ASPELIN\n",
      "627                   JORGE PLATA\n",
      "632               ANESTO ESTRELLA\n",
      "645                 KENNETH HUPKE\n",
      "691                  RONALD LEWIN\n",
      "703              JOSEPH SCHIEBOLD\n",
      "709              CHRISTINE EMMONS\n",
      "714                 DONALD GOGGIN\n",
      "715                ANTHONY BENDIK\n",
      "716                   NORMAN CABA\n",
      "738                 SEAN MCKINNEY\n",
      "744               ERNEST CARRILLO\n",
      "775              MATTHEW SCHWARTZ\n",
      "776          ALEXANDER DOUGLAS JR\n",
      "811                   DUSTIN WINN\n",
      "858                     ERIC LEAL\n",
      "893               DENNIS SULLIVAN\n",
      "894               PATRICK RABBITT\n",
      "907                JOSEPH BARBERO\n",
      "925                      ANNE TAM\n",
      "942            CHRISTOPHER MADSEN\n",
      "954             JEANINE NICHOLSON\n",
      "967                  JAMES DRAPER\n",
      "972                 TERRY SMERDEL\n",
      "982                CHARLES MC COY\n",
      "1011                 RANDALL HIRO\n",
      "1019               LLOYD GOLDBERG\n",
      "1035                AISHA KRIEGER\n",
      "1116                 CHASE WILSON\n",
      "1124                    TYSON YEE\n",
      "1139                   ALLEN WONG\n",
      "1166                  BRIAN WALSH\n",
      "1182                  PAUL O'KANE\n",
      "1196                PAUL MCDONAGH\n",
      "1317               JANEEN PIROSKO\n",
      "1376                ROBERT ARZAVE\n",
      "1394                RUBEN MONTERO\n",
      "1408                 DAVID MURRAY\n",
      "1420                  KAREN HEALD\n",
      "1479              GERALD SCULLION\n",
      "1480             JENNIFER MATHEWS\n",
      "1499              DARIUS LUTTROPP\n",
      "1508               NEAL CAVELLINI\n",
      "1555                JIRO YAMAMOTO\n",
      "1585                    JOEL SATO\n",
      "1592                 KYLE MERKINS\n",
      "1626                 JEFFREY WONG\n",
      "1637             DOMINIC OTTOBONI\n",
      "1648                ANGELA ROMERO\n",
      "1670                   JOHN GRANT\n",
      "1684                 DAVID RITTER\n",
      "1686         WALTER VILLAVICENCIO\n",
      "1705                KEVIN PARDINI\n",
      "1707                  MARC KASPER\n",
      "1714                     JOE CHAN\n",
      "1758                CRISTEO REYES\n",
      "1781              MICHAEL MALONEY\n",
      "1784                 DAVID SMILEY\n",
      "1826                ETHAN JACKSON\n",
      "1911             MICHAEL CHARLTON\n",
      "1915               PATRICK D'ARCY\n",
      "1920              LAWRENCE CONRAD\n",
      "1985                MICHAEL BARRY\n",
      "1990              STEPHEN CASSIDY\n",
      "2032                 ROBERT KISHI\n",
      "2088               TIMOTHY FARMER\n",
      "2095                BRICE PEOPLES\n",
      "2099                  DAWN DEWITT\n",
      "2123                HEATHER PIPER\n",
      "2131                   MARC EVANS\n",
      "2154              AARON STEVENSON\n",
      "2165                 EUGENE ADAMS\n",
      "2166      CATHERINE EMMONS-SAMSON\n",
      "2170               BRENT STUCKERT\n",
      "2189                KENNETH JONES\n",
      "2210               MICHAEL DUNCAN\n",
      "2230                  MATTHEW LEE\n",
      "2249               ANTHONY RIVERA\n",
      "2273                     ANSON WU\n",
      "2347                   HERMAN WOO\n",
      "2349              THERESA WOLOWIC\n",
      "2352                  PETER GROSS\n",
      "2355                  JAMES REIDY\n",
      "2380                 THERESA KWAN\n",
      "2382              ANTHONY SMERDEL\n",
      "2400                    RICKY YEE\n",
      "2407              ERICA ARTESEROS\n",
      "2484             ROBERT TURNQUIST\n",
      "2497                 SEAN MULLANE\n",
      "2506                   WAYNE WONG\n",
      "2510             MICHAEL FUCCIOLO\n",
      "2527                 KATHY AUSTIN\n",
      "2534                  BROCK WELLS\n",
      "2537             KIMBERLY MC KEON\n",
      "2627                RAMON SERRANO\n",
      "2640              GREGORY BLATMAN\n",
      "2684             PATRICK SULLIVAN\n",
      "2710                SEAN JOHNSTON\n",
      "2714                KEVIN MC KEON\n",
      "2721                THOMAS OERTLI\n",
      "2722             CHRISTOPHER BENZ\n",
      "2731                 JUSTIN BROWN\n",
      "2753              CYNTHIA RICKERT\n",
      "2756              CHADWICK ERTOLA\n",
      "2762                CECILIA JIANG\n",
      "2806                   JOHN CHUNG\n",
      "2880                   JOHN LOPES\n",
      "2914              ROBERT NEUNEKER\n",
      "2922               DANIEL GRIFFIN\n",
      "2943                SHIRLEY SZELA\n",
      "2956                   KAREN KERR\n",
      "2997           STEPHEN MC PARTLAN\n",
      "3003              ROBERT MCDONALD\n",
      "3057                    JAMES APP\n",
      "3059             ROBERT ZLATUNICH\n",
      "3081               FREDERICK PUTT\n",
      "3120              SHANE FRANCISCO\n",
      "3135                    ALAN WONG\n",
      "3222              CLIFTON MERRILL\n",
      "3223               KENNETH LINNEY\n",
      "3262            ANTHONY GARIBALDI\n",
      "3324                MARK HARDEMAN\n",
      "3401                   DAT TRUONG\n",
      "3429                DWAYNE NEWTON\n",
      "3475                   ALISON YEE\n",
      "3493                LEONEL TINGIN\n",
      "3536               RONALD VANPOOL\n",
      "3667                  LESLIE WONG\n",
      "3851                HELEN KIEFFER\n",
      "4002                 ROBERT CAPPA\n",
      "4137              SETH RUBENSTEIN\n",
      "4326                 PATRICIA LUI\n",
      "4635             PATRICK MARTINEZ\n",
      "4955                    AUDRY LEE\n",
      "5498                VINCENT PEREZ\n",
      "8436                JENSEN RHODES\n",
      "16285             AARON STEVENSON\n",
      "32623                JAMES BARDEN\n",
      "36162          Joanne Hayes-White\n",
      "72926        Joanne M Hayes-White\n",
      "102303             Robert E Evans\n",
      "110535       Joanne M Hayes-White\n",
      "Name: EmployeeName, dtype: object\n"
     ]
    }
   ],
   "source": [
    "\n",
    "\n",
    "# Set the display option to show all rows\n",
    "pd.set_option('display.max_rows', None)\n",
    "\n",
    "# Filter the dataset for employees with 'fire department' in their job title\n",
    "fire_department_employees = df[df['JobTitle'].str.contains('fire department', case=False, na=False)]\n",
    "\n",
    "# Get the 'EmployeeName' column from the filtered data and print it\n",
    "employee_names_in_fire_department = fire_department_employees['EmployeeName']\n",
    "print(employee_names_in_fire_department)\n",
    "\n",
    "# Reset the display option to its default value (if needed)\n",
    "pd.reset_option('display.max_rows')\n"
   ]
  },
  {
   "cell_type": "markdown",
   "id": "39f4ff11-aad2-472c-a229-3a088cde064c",
   "metadata": {},
   "source": [
    "### Find the minimum, maximum and average basepay"
   ]
  },
  {
   "cell_type": "code",
   "execution_count": 75,
   "id": "d762b884-7950-4a1a-92dc-2139ea8623c0",
   "metadata": {
    "tags": []
   },
   "outputs": [
    {
     "data": {
      "image/png": "[encoded data removed]",
      "text/plain": [
       "<Figure size 640x480 with 1 Axes>"
      ]
     },
     "metadata": {},
     "output_type": "display_data"
    }
   ],
   "source": [
    "# Calculate the minimum, maximum, and average 'BasePay'\n",
    "minimum_basepay = df['BasePay'].min()\n",
    "maximum_basepay = df['BasePay'].max()\n",
    "average_basepay = df['BasePay'].mean()\n",
    "\n",
    "# Create a bar chart\n",
    "categories = ['Minimum', 'Maximum', 'Average']\n",
    "values = [minimum_basepay, maximum_basepay, average_basepay]\n",
    "\n",
    "plt.bar(categories, values)\n",
    "plt.xlabel('Statistic')\n",
    "plt.ylabel('BasePay Value')\n",
    "plt.title('BasePay Statistics')\n",
    "plt.show()\n"
   ]
  },
  {
   "cell_type": "code",
   "execution_count": 76,
   "id": "3ce72405-146b-4513-8a23-52f5dcce0e22",
   "metadata": {
    "tags": []
   },
   "outputs": [
    {
     "data": {
      "text/plain": [
       "-166.01"
      ]
     },
     "execution_count": 76,
     "metadata": {},
     "output_type": "execute_result"
    }
   ],
   "source": [
    "minimum_basepay = df['BasePay'].min()\n",
    "minimum_basepay "
   ]
  },
  {
   "cell_type": "code",
   "execution_count": 77,
   "id": "814c7c73-6528-4d35-b500-6d07f03bdc57",
   "metadata": {
    "tags": []
   },
   "outputs": [
    {
     "data": {
      "text/plain": [
       "319275.01"
      ]
     },
     "execution_count": 77,
     "metadata": {},
     "output_type": "execute_result"
    }
   ],
   "source": [
    "maximum_basepay = df['BasePay'].max()\n",
    "maximum_basepay"
   ]
  },
  {
   "cell_type": "markdown",
   "id": "6051b252-1a71-4909-abc2-652761000def",
   "metadata": {},
   "source": [
    "## Replace \"Not provided\" in employeename column with NAN\n"
   ]
  },
  {
   "cell_type": "code",
   "execution_count": 78,
   "id": "9f23822e-ebcd-4480-837e-b7e1170c843d",
   "metadata": {
    "tags": []
   },
   "outputs": [],
   "source": [
    "# Replace \"Not provided\" with NaN in the 'EmployeeName' column\n",
    "df['EmployeeName'] = df['EmployeeName'].replace(\"Not provided\", np.nan)"
   ]
  },
  {
   "cell_type": "markdown",
   "id": "18076625-a16f-4f1a-864b-463a16722cae",
   "metadata": {},
   "source": [
    "### Drop rows having 5missing values"
   ]
  },
  {
   "cell_type": "code",
   "execution_count": 79,
   "id": "1773dda1-cb55-4eeb-a399-f0de20e149e8",
   "metadata": {
    "tags": []
   },
   "outputs": [
    {
     "data": {
      "text/html": [
       "<div>\n",
       "<style scoped>\n",
       "    .dataframe tbody tr th:only-of-type {\n",
       "        vertical-align: middle;\n",
       "    }\n",
       "\n",
       "    .dataframe tbody tr th {\n",
       "        vertical-align: top;\n",
       "    }\n",
       "\n",
       "    .dataframe thead th {\n",
       "        text-align: right;\n",
       "    }\n",
       "</style>\n",
       "<table border=\"1\" class=\"dataframe\">\n",
       "  <thead>\n",
       "    <tr style=\"text-align: right;\">\n",
       "      <th></th>\n",
       "      <th>EmployeeName</th>\n",
       "      <th>JobTitle</th>\n",
       "      <th>BasePay</th>\n",
       "      <th>OvertimePay</th>\n",
       "      <th>OtherPay</th>\n",
       "      <th>Benefits</th>\n",
       "      <th>TotalPay</th>\n",
       "      <th>TotalPayBenefits</th>\n",
       "      <th>Year</th>\n",
       "      <th>Agency</th>\n",
       "    </tr>\n",
       "  </thead>\n",
       "  <tbody>\n",
       "    <tr>\n",
       "      <th>0</th>\n",
       "      <td>NATHANIEL FORD</td>\n",
       "      <td>GENERAL MANAGER-METROPOLITAN TRANSIT AUTHORITY</td>\n",
       "      <td>167411.18000</td>\n",
       "      <td>0.00</td>\n",
       "      <td>400184.25</td>\n",
       "      <td>0.0</td>\n",
       "      <td>567595.43</td>\n",
       "      <td>567595.43</td>\n",
       "      <td>2011</td>\n",
       "      <td>San Francisco</td>\n",
       "    </tr>\n",
       "    <tr>\n",
       "      <th>1</th>\n",
       "      <td>GARY JIMENEZ</td>\n",
       "      <td>CAPTAIN III (POLICE DEPARTMENT)</td>\n",
       "      <td>155966.02000</td>\n",
       "      <td>245131.88</td>\n",
       "      <td>137811.38</td>\n",
       "      <td>0.0</td>\n",
       "      <td>538909.28</td>\n",
       "      <td>538909.28</td>\n",
       "      <td>2011</td>\n",
       "      <td>San Francisco</td>\n",
       "    </tr>\n",
       "    <tr>\n",
       "      <th>2</th>\n",
       "      <td>ALBERT PARDINI</td>\n",
       "      <td>CAPTAIN III (POLICE DEPARTMENT)</td>\n",
       "      <td>212739.13000</td>\n",
       "      <td>106088.18</td>\n",
       "      <td>16452.60</td>\n",
       "      <td>0.0</td>\n",
       "      <td>335279.91</td>\n",
       "      <td>335279.91</td>\n",
       "      <td>2011</td>\n",
       "      <td>San Francisco</td>\n",
       "    </tr>\n",
       "    <tr>\n",
       "      <th>3</th>\n",
       "      <td>CHRISTOPHER CHONG</td>\n",
       "      <td>WIRE ROPE CABLE MAINTENANCE MECHANIC</td>\n",
       "      <td>77916.00000</td>\n",
       "      <td>56120.71</td>\n",
       "      <td>198306.90</td>\n",
       "      <td>0.0</td>\n",
       "      <td>332343.61</td>\n",
       "      <td>332343.61</td>\n",
       "      <td>2011</td>\n",
       "      <td>San Francisco</td>\n",
       "    </tr>\n",
       "    <tr>\n",
       "      <th>4</th>\n",
       "      <td>PATRICK GARDNER</td>\n",
       "      <td>DEPUTY CHIEF OF DEPARTMENT,(FIRE DEPARTMENT)</td>\n",
       "      <td>134401.60000</td>\n",
       "      <td>9737.00</td>\n",
       "      <td>182234.59</td>\n",
       "      <td>0.0</td>\n",
       "      <td>326373.19</td>\n",
       "      <td>326373.19</td>\n",
       "      <td>2011</td>\n",
       "      <td>San Francisco</td>\n",
       "    </tr>\n",
       "    <tr>\n",
       "      <th>...</th>\n",
       "      <td>...</td>\n",
       "      <td>...</td>\n",
       "      <td>...</td>\n",
       "      <td>...</td>\n",
       "      <td>...</td>\n",
       "      <td>...</td>\n",
       "      <td>...</td>\n",
       "      <td>...</td>\n",
       "      <td>...</td>\n",
       "      <td>...</td>\n",
       "    </tr>\n",
       "    <tr>\n",
       "      <th>148649</th>\n",
       "      <td>Roy I Tillery</td>\n",
       "      <td>Custodian</td>\n",
       "      <td>0.00000</td>\n",
       "      <td>0.00</td>\n",
       "      <td>0.00</td>\n",
       "      <td>0.0</td>\n",
       "      <td>0.00</td>\n",
       "      <td>0.00</td>\n",
       "      <td>2014</td>\n",
       "      <td>San Francisco</td>\n",
       "    </tr>\n",
       "    <tr>\n",
       "      <th>148650</th>\n",
       "      <td>NaN</td>\n",
       "      <td>Not provided</td>\n",
       "      <td>66325.44884</td>\n",
       "      <td>NaN</td>\n",
       "      <td>NaN</td>\n",
       "      <td>0.0</td>\n",
       "      <td>0.00</td>\n",
       "      <td>0.00</td>\n",
       "      <td>2014</td>\n",
       "      <td>San Francisco</td>\n",
       "    </tr>\n",
       "    <tr>\n",
       "      <th>148651</th>\n",
       "      <td>NaN</td>\n",
       "      <td>Not provided</td>\n",
       "      <td>66325.44884</td>\n",
       "      <td>NaN</td>\n",
       "      <td>NaN</td>\n",
       "      <td>0.0</td>\n",
       "      <td>0.00</td>\n",
       "      <td>0.00</td>\n",
       "      <td>2014</td>\n",
       "      <td>San Francisco</td>\n",
       "    </tr>\n",
       "    <tr>\n",
       "      <th>148652</th>\n",
       "      <td>NaN</td>\n",
       "      <td>Not provided</td>\n",
       "      <td>66325.44884</td>\n",
       "      <td>NaN</td>\n",
       "      <td>NaN</td>\n",
       "      <td>0.0</td>\n",
       "      <td>0.00</td>\n",
       "      <td>0.00</td>\n",
       "      <td>2014</td>\n",
       "      <td>San Francisco</td>\n",
       "    </tr>\n",
       "    <tr>\n",
       "      <th>148653</th>\n",
       "      <td>Joe Lopez</td>\n",
       "      <td>Counselor, Log Cabin Ranch</td>\n",
       "      <td>0.00000</td>\n",
       "      <td>0.00</td>\n",
       "      <td>-618.13</td>\n",
       "      <td>0.0</td>\n",
       "      <td>-618.13</td>\n",
       "      <td>-618.13</td>\n",
       "      <td>2014</td>\n",
       "      <td>San Francisco</td>\n",
       "    </tr>\n",
       "  </tbody>\n",
       "</table>\n",
       "<p>148654 rows × 10 columns</p>\n",
       "</div>"
      ],
      "text/plain": [
       "             EmployeeName                                        JobTitle  \\\n",
       "0          NATHANIEL FORD  GENERAL MANAGER-METROPOLITAN TRANSIT AUTHORITY   \n",
       "1            GARY JIMENEZ                 CAPTAIN III (POLICE DEPARTMENT)   \n",
       "2          ALBERT PARDINI                 CAPTAIN III (POLICE DEPARTMENT)   \n",
       "3       CHRISTOPHER CHONG            WIRE ROPE CABLE MAINTENANCE MECHANIC   \n",
       "4         PATRICK GARDNER    DEPUTY CHIEF OF DEPARTMENT,(FIRE DEPARTMENT)   \n",
       "...                   ...                                             ...   \n",
       "148649      Roy I Tillery                                       Custodian   \n",
       "148650                NaN                                    Not provided   \n",
       "148651                NaN                                    Not provided   \n",
       "148652                NaN                                    Not provided   \n",
       "148653          Joe Lopez                      Counselor, Log Cabin Ranch   \n",
       "\n",
       "             BasePay  OvertimePay   OtherPay  Benefits   TotalPay  \\\n",
       "0       167411.18000         0.00  400184.25       0.0  567595.43   \n",
       "1       155966.02000    245131.88  137811.38       0.0  538909.28   \n",
       "2       212739.13000    106088.18   16452.60       0.0  335279.91   \n",
       "3        77916.00000     56120.71  198306.90       0.0  332343.61   \n",
       "4       134401.60000      9737.00  182234.59       0.0  326373.19   \n",
       "...              ...          ...        ...       ...        ...   \n",
       "148649       0.00000         0.00       0.00       0.0       0.00   \n",
       "148650   66325.44884          NaN        NaN       0.0       0.00   \n",
       "148651   66325.44884          NaN        NaN       0.0       0.00   \n",
       "148652   66325.44884          NaN        NaN       0.0       0.00   \n",
       "148653       0.00000         0.00    -618.13       0.0    -618.13   \n",
       "\n",
       "        TotalPayBenefits  Year         Agency  \n",
       "0              567595.43  2011  San Francisco  \n",
       "1              538909.28  2011  San Francisco  \n",
       "2              335279.91  2011  San Francisco  \n",
       "3              332343.61  2011  San Francisco  \n",
       "4              326373.19  2011  San Francisco  \n",
       "...                  ...   ...            ...  \n",
       "148649              0.00  2014  San Francisco  \n",
       "148650              0.00  2014  San Francisco  \n",
       "148651              0.00  2014  San Francisco  \n",
       "148652              0.00  2014  San Francisco  \n",
       "148653           -618.13  2014  San Francisco  \n",
       "\n",
       "[148654 rows x 10 columns]"
      ]
     },
     "execution_count": 79,
     "metadata": {},
     "output_type": "execute_result"
    }
   ],
   "source": [
    "# Drop rows with exactly 5 missing values\n",
    "df_cleaned = df.dropna(thresh=len(df.columns) - 5)\n",
    "df_cleaned"
   ]
  },
  {
   "cell_type": "markdown",
   "id": "fd19fb24-6211-46c1-9de6-eeee0499c8c5",
   "metadata": {
    "tags": []
   },
   "source": [
    "### Find the job title of ALBERT PARDINI"
   ]
  },
  {
   "cell_type": "code",
   "execution_count": 80,
   "id": "fd243226-76c6-4854-9f25-b0cebae831fe",
   "metadata": {
    "tags": []
   },
   "outputs": [
    {
     "data": {
      "text/plain": [
       "2    CAPTAIN III (POLICE DEPARTMENT)\n",
       "Name: JobTitle, dtype: object"
      ]
     },
     "execution_count": 80,
     "metadata": {},
     "output_type": "execute_result"
    }
   ],
   "source": [
    "# Find the job title of \"ALBERT PARDINI\"\n",
    "albert_pardini_job_title = df[df['EmployeeName'] == 'ALBERT PARDINI']['JobTitle']\n",
    "\n",
    "albert_pardini_job_title"
   ]
  },
  {
   "cell_type": "markdown",
   "id": "c0aa3a84-d0a0-45c1-95a5-14a6b09c443e",
   "metadata": {},
   "source": [
    "###  How much he makes including benefits"
   ]
  },
  {
   "cell_type": "code",
   "execution_count": 81,
   "id": "5de298f5-4661-4eb8-9eba-78d3216a7930",
   "metadata": {
    "tags": []
   },
   "outputs": [
    {
     "data": {
      "text/plain": [
       "2    335279.91\n",
       "Name: TotalPayBenefits, dtype: float64"
      ]
     },
     "execution_count": 81,
     "metadata": {},
     "output_type": "execute_result"
    }
   ],
   "source": [
    "# Find the 'TotalPayBenefits' of \"ALBERT PARDINI\"\n",
    "albert_pardini_total_pay_benefits = df[df['EmployeeName'] == 'ALBERT PARDINI']['TotalPayBenefits']\n",
    "albert_pardini_total_pay_benefits"
   ]
  },
  {
   "cell_type": "markdown",
   "id": "dcc569e1-99d2-4979-9cb9-38723b25f55b",
   "metadata": {},
   "source": [
    "### Show the name of the top 5 person with highest basepay"
   ]
  },
  {
   "cell_type": "code",
   "execution_count": 82,
   "id": "42a70ff4-a758-48f5-ba8d-83950d7eaf06",
   "metadata": {
    "tags": []
   },
   "outputs": [
    {
     "data": {
      "image/png": "[encoded data removed]",
      "text/plain": [
       "<Figure size 640x480 with 1 Axes>"
      ]
     },
     "metadata": {},
     "output_type": "display_data"
    }
   ],
   "source": [
    "\n",
    "# Sort the DataFrame by 'BasePay' in descending order and select the top 5 rows\n",
    "top_5_highest_basepay = df.sort_values(by='BasePay', ascending=False).head(5)\n",
    "\n",
    "# Display the names of the top 5 individuals\n",
    "top_5_names = top_5_highest_basepay['EmployeeName']\n",
    "\n",
    "# Visualize the data\n",
    "plt.bar(top_5_names, top_5_highest_basepay['BasePay'])\n",
    "plt.xlabel('Employee Name')\n",
    "plt.ylabel('BasePay')\n",
    "plt.title('Top 5 Highest BasePay')\n",
    "plt.xticks(rotation=45)\n",
    "plt.show()\n"
   ]
  },
  {
   "cell_type": "code",
   "execution_count": 83,
   "id": "81da95dd-821b-40f1-9d77-48d1724cb2d3",
   "metadata": {
    "tags": []
   },
   "outputs": [
    {
     "data": {
      "text/plain": [
       "72925           Gregory P Suhr\n",
       "110532              Amy P Hart\n",
       "72929            Robert L Shaw\n",
       "72926     Joanne M Hayes-White\n",
       "72931        Harlan L Kelly-Jr\n",
       "Name: EmployeeName, dtype: object"
      ]
     },
     "execution_count": 83,
     "metadata": {},
     "output_type": "execute_result"
    }
   ],
   "source": [
    "top_5_names = top_5_highest_basepay['EmployeeName']\n",
    "top_5_names"
   ]
  },
  {
   "cell_type": "markdown",
   "id": "179919ae-4666-42cc-b772-e36e79f6dc99",
   "metadata": {},
   "source": [
    "## Find the average basepay of all employees per job title"
   ]
  },
  {
   "cell_type": "code",
   "execution_count": 84,
   "id": "d0e81e7f-87b7-43cf-b750-ac8b33612840",
   "metadata": {
    "tags": []
   },
   "outputs": [
    {
     "data": {
      "text/plain": [
       "JobTitle\n",
       "ACCOUNT CLERK                                     43300.806506\n",
       "ACCOUNTANT                                        46643.172000\n",
       "ACCOUNTANT INTERN                                 28732.663958\n",
       "ACPO,JuvP, Juv Prob (SFERS)                       62290.780000\n",
       "ACUPUNCTURIST                                     66374.400000\n",
       "                                                      ...     \n",
       "X-RAY LABORATORY AIDE                             47664.773077\n",
       "X-Ray Laboratory Aide                             46086.387100\n",
       "YOUTH COMMISSION ADVISOR, BOARD OF SUPERVISORS    52609.910000\n",
       "Youth Comm Advisor                                39077.957500\n",
       "ZOO CURATOR                                       43148.000000\n",
       "Name: BasePay, Length: 2159, dtype: float64"
      ]
     },
     "execution_count": 84,
     "metadata": {},
     "output_type": "execute_result"
    }
   ],
   "source": [
    "# Group the data by job title and calculate the average 'BasePay' for each title\n",
    "average_basepay_by_job_title = df.groupby('JobTitle')['BasePay'].mean()\n",
    "average_basepay_by_job_title"
   ]
  },
  {
   "cell_type": "markdown",
   "id": "d9fc87c7-53ca-4b91-9f5a-cddaf48700f8",
   "metadata": {},
   "source": [
    "## Find the average basepay of all employees having job title Accountant"
   ]
  },
  {
   "cell_type": "code",
   "execution_count": 85,
   "id": "847ea121-9935-4a2b-bcf9-8a6c5dde6779",
   "metadata": {
    "tags": []
   },
   "outputs": [
    {
     "data": {
      "text/html": [
       "<div>\n",
       "<style scoped>\n",
       "    .dataframe tbody tr th:only-of-type {\n",
       "        vertical-align: middle;\n",
       "    }\n",
       "\n",
       "    .dataframe tbody tr th {\n",
       "        vertical-align: top;\n",
       "    }\n",
       "\n",
       "    .dataframe thead th {\n",
       "        text-align: right;\n",
       "    }\n",
       "</style>\n",
       "<table border=\"1\" class=\"dataframe\">\n",
       "  <thead>\n",
       "    <tr style=\"text-align: right;\">\n",
       "      <th></th>\n",
       "      <th>EmployeeName</th>\n",
       "      <th>JobTitle</th>\n",
       "      <th>BasePay</th>\n",
       "      <th>OvertimePay</th>\n",
       "      <th>OtherPay</th>\n",
       "      <th>Benefits</th>\n",
       "      <th>TotalPay</th>\n",
       "      <th>TotalPayBenefits</th>\n",
       "      <th>Year</th>\n",
       "      <th>Agency</th>\n",
       "    </tr>\n",
       "  </thead>\n",
       "  <tbody>\n",
       "  </tbody>\n",
       "</table>\n",
       "</div>"
      ],
      "text/plain": [
       "Empty DataFrame\n",
       "Columns: [EmployeeName, JobTitle, BasePay, OvertimePay, OtherPay, Benefits, TotalPay, TotalPayBenefits, Year, Agency]\n",
       "Index: []"
      ]
     },
     "execution_count": 85,
     "metadata": {},
     "output_type": "execute_result"
    }
   ],
   "source": [
    "# Filter the data for employees with the job title \"Accountant\"\n",
    "accountant_data = df[df['JobTitle'] == 'Accountant']\n",
    "accountant_data"
   ]
  },
  {
   "cell_type": "code",
   "execution_count": 86,
   "id": "9c020bd4-f68e-4904-b0f3-5b128cb88a85",
   "metadata": {
    "tags": []
   },
   "outputs": [
    {
     "data": {
      "text/plain": [
       "nan"
      ]
     },
     "execution_count": 86,
     "metadata": {},
     "output_type": "execute_result"
    }
   ],
   "source": [
    "# Calculate the average 'BasePay' for employees with the job title \"Accountant\"\n",
    "average_basepay_accountant = accountant_data['BasePay'].mean()\n",
    "average_basepay_accountant"
   ]
  },
  {
   "cell_type": "code",
   "execution_count": 87,
   "id": "d9cfffe1-125c-406f-bce1-08fecd6ede50",
   "metadata": {
    "tags": []
   },
   "outputs": [
    {
     "name": "stdout",
     "output_type": "stream",
     "text": [
      "Empty DataFrame\n",
      "Columns: [EmployeeName, JobTitle, BasePay, OvertimePay, OtherPay, Benefits, TotalPay, TotalPayBenefits, Year, Agency]\n",
      "Index: []\n",
      "Average BasePay for Accountants: nan\n"
     ]
    }
   ],
   "source": [
    "\n",
    "# Filter the data for employees with the job title \"Accountant\"\n",
    "accountant_data = df[df['JobTitle'] == 'Accountant']\n",
    "\n",
    "# Calculate the average 'BasePay' for employees with the job title \"Accountant\"\n",
    "average_basepay_accountant = accountant_data['BasePay'].mean()\n",
    "\n",
    "# Now, you can display the details of employees with the job title \"Accountant\"\n",
    "print(accountant_data)\n",
    "print(f\"Average BasePay for Accountants: {average_basepay_accountant}\")\n"
   ]
  },
  {
   "cell_type": "markdown",
   "id": "6e21b224-37f9-4b5a-8c24-ce47b5128002",
   "metadata": {},
   "source": [
    "## Find the five most common jobs"
   ]
  },
  {
   "cell_type": "code",
   "execution_count": 88,
   "id": "1a076607-85bb-41b8-b222-71a15b60745f",
   "metadata": {
    "tags": []
   },
   "outputs": [
    {
     "data": {
      "text/plain": [
       "Transit Operator                                  7036\n",
       "Special Nurse                                     4389\n",
       "Registered Nurse                                  3736\n",
       "Public Svc Aide-Public Works                      2518\n",
       "Police Officer 3                                  2421\n",
       "                                                  ... \n",
       "CHIEF HOUSING INSPECTOR                              1\n",
       "TRAFFIC SIGNAL OPERATOR                              1\n",
       "COURT COMPUTER FACILITIES COORDINATOR                1\n",
       "AUTOMOTIVE BODY AND FENDER WORKER SUPERVISOR I       1\n",
       "VICTIM & WITNESS TECHNICIAN                          1\n",
       "Name: JobTitle, Length: 2159, dtype: int64"
      ]
     },
     "execution_count": 88,
     "metadata": {},
     "output_type": "execute_result"
    }
   ],
   "source": [
    "# Use value_counts() to count the occurrences of each job title\n",
    "job_title_counts = df['JobTitle'].value_counts()\n",
    "job_title_counts\n",
    "\n",
    "\n"
   ]
  },
  {
   "cell_type": "code",
   "execution_count": null,
   "id": "61c1fc8e-6a18-48b2-add7-000f578b2500",
   "metadata": {},
   "outputs": [],
   "source": []
  }
 ],
 "metadata": {
  "kernelspec": {
   "display_name": "Python 3 (ipykernel)",
   "language": "python",
   "name": "python3"
  },
  "language_info": {
   "codemirror_mode": {
    "name": "ipython",
    "version": 3
   },
   "file_extension": ".py",
   "mimetype": "text/x-python",
   "name": "python",
   "nbconvert_exporter": "python",
   "pygments_lexer": "ipython3",
   "version": "3.11.4"
  }
 },
 "nbformat": 4,
 "nbformat_minor": 5
}
